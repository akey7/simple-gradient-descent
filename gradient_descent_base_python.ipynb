{
 "cells": [
  {
   "cell_type": "markdown",
   "id": "d8793c28-0560-4873-a488-dcbdf3819171",
   "metadata": {},
   "source": [
    "# Polynomial Gradient Descent with Base Python\n",
    "\n",
    "This is a simple polynomial gradient descent. It is a naive implmentation that is not optimized or vectorized. It is meant to be a simple demo on how gradient descent can be accomplished. To keep it simple, it uses base python. I don't intend for it to be used for anything important!\n",
    "\n",
    "## Some Equations\n",
    "\n",
    "The \"target\" polynomial that will be fitted is defined as Eqn. 1:\n",
    "\n",
    "$$ y_i = \\sum_{i=0}^{n} a_i x^i $$\n",
    "\n",
    "The \"estimate\" polynomial that will be fitted is defined the same way but with a hat of the y Eqn. 2:\n",
    "\n",
    "$$ \\hat y_i = \\sum_{i=0}^{n} a_i x^i $$\n",
    "\n",
    "To fit the polynomial the code will minimize the residual sum of squares (RSS) function Eqn. 3:\n",
    "\n",
    "$$ RSS = \\sum_{i=0}^{n} (y_i - \\hat y_i)^2 $$\n",
    "\n",
    "Gradient desscent needs the partial derivative of the RSS with respect to each ceofficient, which is Eqn. 4:\n",
    "\n",
    "$$ {\\partial \\over \\partial a_k}  = -2 \\sum_{i=1}^n \\left(y_i-\\hat y_i\\right) x_i^{k} $$\n",
    "\n",
    "To define each polynomial, I will gather the coefficients into a vector Eqn. 5:\n",
    "\n",
    "$$ \\mathbf a = [a_1, a_2, ..., a_i] $$"
   ]
  },
  {
   "cell_type": "code",
   "execution_count": 1,
   "id": "681498fa-169b-4c79-b394-e94ad679054c",
   "metadata": {
    "tags": []
   },
   "outputs": [],
   "source": [
    "from math import sqrt\n",
    "import matplotlib.pyplot as plt"
   ]
  },
  {
   "cell_type": "markdown",
   "id": "6254ae97-f172-4153-a96e-16d29746e530",
   "metadata": {},
   "source": [
    "## Custom Functions\n",
    "\n",
    "The code in this example is built around functions, so I will define these functions in the first part of the notebook and use these functions in the second part of the notebook.\n",
    "\n",
    "### Linspace Function\n",
    "\n",
    "Since I am not using numpy, I am making my own linspace function. Later, this function will make the x-axis to evaluate the polynomials with."
   ]
  },
  {
   "cell_type": "code",
   "execution_count": 2,
   "id": "eab6744c-3acc-4296-980f-6c6daee2994c",
   "metadata": {
    "tags": []
   },
   "outputs": [],
   "source": [
    "def linspace(min_val, max_val, npoints):\n",
    "    \"\"\"\n",
    "    Creates a list of floating point values between the minimum and\n",
    "    maximum values, with the number of points (+1) to cover the entire\n",
    "    span specified.\n",
    "    \n",
    "    Parameters\n",
    "    ----------\n",
    "    min_val\n",
    "        The minimum value in the range as a float.\n",
    "        \n",
    "    max_val\n",
    "        The maximum value in the range as a float.\n",
    "        \n",
    "    npoints\n",
    "        The number of points in the range as a float.\n",
    "        \n",
    "    Returns\n",
    "    -------\n",
    "    list[float]\n",
    "        A list of floating point values as specified.\n",
    "    \"\"\"\n",
    "    \n",
    "    return [min_val+(max_val-min_val)/npoints*i for i in range(npoints+1)]"
   ]
  },
  {
   "cell_type": "markdown",
   "id": "d8fb5f95-4455-4fd4-934d-1de9c2eb902a",
   "metadata": {},
   "source": [
    "### Polynomial Function\n",
    "\n",
    "This will evaluate a list of y values from a polynomial according to Eqns 1 and 2 with an x-axis and vector of coefficients."
   ]
  },
  {
   "cell_type": "code",
   "execution_count": 3,
   "id": "1db9ad57-2395-45a1-a21b-3429678b33ce",
   "metadata": {},
   "outputs": [],
   "source": [
    "def polynomial(x_axis, coeffs):\n",
    "    \"\"\"\n",
    "    Evaluates a polynomial along a given axis given coefficients.\n",
    "    \n",
    "    Parameters\n",
    "    ----------\n",
    "    x_axis:\n",
    "         A list of floats that is the x-axis to supply as x_i.\n",
    "         \n",
    "    coeffs:\n",
    "        The coefficients of the polynomial as defined in the vector\n",
    "        in Eqn. 4.\n",
    "        \n",
    "    Returns\n",
    "    -------\n",
    "    list[float]\n",
    "        Returns a list of floats that are the values of the polynomial.\n",
    "    \"\"\"\n",
    "    \n",
    "    ys = []\n",
    "    for x in x_axis:\n",
    "        y = 0.\n",
    "        for i, coeff in enumerate(coeffs):\n",
    "            y += coeff * x**i\n",
    "        ys.append(y)\n",
    "    return ys"
   ]
  },
  {
   "cell_type": "markdown",
   "id": "836df441-f212-45b1-93a9-43b8ac59cd2d",
   "metadata": {},
   "source": [
    "### RSS Function\n",
    "\n",
    "This function will calculate the error between the target and estimate polynomials according to Eqn. 3."
   ]
  },
  {
   "cell_type": "code",
   "execution_count": 4,
   "id": "d3e83fb4-6f53-4804-be1b-4df832bdfbe9",
   "metadata": {},
   "outputs": [],
   "source": [
    "def rss(x_axis, y_coeffs, y_hat_coeffs):\n",
    "    \"\"\"\n",
    "    Calculates the RSS as defined in Eqn 3 between the two polynomials \n",
    "    specified in Eqns 1 or 2.\n",
    "    \n",
    "    Parameters\n",
    "    ----------\n",
    "    x_axis\n",
    "        The x-axis as a list of floats with which to compare the \n",
    "        polynomials.\n",
    "        \n",
    "    y_coeffs:\n",
    "        The coefficients as a list of floats for the target polynomial.\n",
    "        \n",
    "    y_hat_coeffs\n",
    "        The coefficients as a list of floats for the estimate polynomial.\n",
    "        \n",
    "    Returns\n",
    "    -------\n",
    "    float\n",
    "        An RSS value between the target and estimate.\n",
    "    \"\"\"\n",
    "    \n",
    "    target_ys = polynomial(x_axis, y_coeffs)\n",
    "    estimate_ys = polynomial(x_axis, y_hat_coeffs)\n",
    "    return sum((target_y - estimate_y)**2 for target_y, estimate_y in zip(target_ys, estimate_ys))"
   ]
  },
  {
   "cell_type": "markdown",
   "id": "b0d57053-3b32-447f-848b-f02ca0010a5c",
   "metadata": {},
   "source": [
    "### Gradient Function\n",
    "\n",
    "This function calculates the components of the gradient of the RSS error between the target and estimate coefficients. It implements Eqn 4."
   ]
  },
  {
   "cell_type": "code",
   "execution_count": 5,
   "id": "db75acc0-43d6-4aae-b4b3-b08e6abfcbe7",
   "metadata": {
    "tags": []
   },
   "outputs": [],
   "source": [
    "def gradient(x_axis, target_ys, estimate_ys, y_hat_coeffs):\n",
    "    \"\"\"\n",
    "    Calculates the gradient of the error between the target and estimate\n",
    "    polynomials and returns the components of the gradient in a list of\n",
    "    floats.\n",
    "    \n",
    "    Parameters\n",
    "    ----------\n",
    "    x_axis\n",
    "        The x axis as a list of floats.\n",
    "    \n",
    "    target_ys\n",
    "        List of floats that is the target polynomial y values.\n",
    "        \n",
    "    estimate_ys\n",
    "        List of floats that is the estimate polynomial y values.\n",
    "        \n",
    "    y_hat_coeffs\n",
    "        The estimate coefficients as a list of floats.\n",
    "        \n",
    "    Returns\n",
    "    -------\n",
    "    list[float]\n",
    "        The components of the gradient as a list of floats.\n",
    "    \"\"\"\n",
    "    \n",
    "    components = []\n",
    "    for k, _ in enumerate(y_hat_coeffs):\n",
    "        component = 0.\n",
    "        for i, (target_y, estimate_y) in enumerate(zip(target_ys, estimate_ys)):\n",
    "            component += (target_y - estimate_y) * x_axis[i] ** k\n",
    "        components.append(-2 * component)\n",
    "    return components"
   ]
  },
  {
   "cell_type": "markdown",
   "id": "4002bf23-1c56-4ec6-a05a-c9160364222f",
   "metadata": {},
   "source": [
    "### Gradient Descent Function\n",
    "\n",
    "This function uses the gradient to iteravely refine the estimate coefficients to move the estimate closer to the target. It returns the history of the RSS values along the way."
   ]
  },
  {
   "cell_type": "code",
   "execution_count": 6,
   "id": "97874d7a-154e-4685-b13b-e2d4a2f65e30",
   "metadata": {
    "tags": []
   },
   "outputs": [],
   "source": [
    "def gradient_descent(x_axis, target_ys, target_coeffs, y_hat_coeffs_initial, learn_rate=1e-6, max_iter=1000, rss_threshold=50.):\n",
    "    \"\"\"\n",
    "    Performs gradient descent optimization to make the estimate coefficients\n",
    "    converge to values that give a polynomial function with a shape similar\n",
    "    to the target values.\n",
    "    \n",
    "    Training continues until max iterations are reached or the RSS diminishes\n",
    "    below the given threshold.\n",
    "    \n",
    "    Parameters\n",
    "    ----------\n",
    "    x_axis\n",
    "        List of floats that is the x-axis for the polynomials.\n",
    "        \n",
    "    target_ys\n",
    "        List of floats that is the target polynomial.\n",
    "        \n",
    "    y_hat_coeffs_initial\n",
    "        The initial guess for the estimate coefficients\n",
    "        \n",
    "    learn_rate\n",
    "        The rate at which to descend the gradient during fitting. Higher numbers\n",
    "        descend quicker but may not find the true minimum.\n",
    "        \n",
    "    max_iter\n",
    "        Integer of the maximum number of iterations the algorithm will attempt.\n",
    "        Used to prevent infinite loops.\n",
    "        \n",
    "    rss_threshold\n",
    "        If RSS diminishes below this threshold, training iterations will stop.\n",
    "        \n",
    "    Returns\n",
    "    -------\n",
    "    list[dict]\n",
    "        A list of dictionaries containing the training history at each iteration.\n",
    "    \"\"\"\n",
    "    \n",
    "    fit_history = []\n",
    "    y_hat_coeffs = y_hat_coeffs_initial[:]\n",
    "    for i in range(max_iter):\n",
    "        estimate_ys = polynomial(x_axis, y_hat_coeffs)\n",
    "        estimate_rss = rss(x_axis, target_coeffs, y_hat_coeffs)\n",
    "        fit_history.append({\n",
    "            'rss': estimate_rss,\n",
    "            'y_hat_coeffs': y_hat_coeffs[:]\n",
    "        })\n",
    "        if estimate_rss < rss_threshold:\n",
    "            break\n",
    "        current_gradient = gradient(x_axis, target_ys, estimate_ys, y_hat_coeffs)\n",
    "        y_hat_coeffs = [y_hat_coeff-learn_rate*gi for y_hat_coeff, gi in zip(y_hat_coeffs, current_gradient)]\n",
    "    return fit_history"
   ]
  },
  {
   "cell_type": "markdown",
   "id": "1aafb5a5-0502-4c68-946e-1b01fd99870f",
   "metadata": {},
   "source": [
    "## Define the \"Target\" and \"Estimate\" Polynomials\n",
    "\n",
    "### Create the Common X-Axis"
   ]
  },
  {
   "cell_type": "code",
   "execution_count": 7,
   "id": "9a3b1991-cdee-43fb-9489-6934c076c831",
   "metadata": {},
   "outputs": [],
   "source": [
    "common_x_axis = linspace(-5., 5., 100)"
   ]
  },
  {
   "cell_type": "markdown",
   "id": "603dc880-64b7-4ae1-86ba-3653d3d76e1f",
   "metadata": {},
   "source": [
    "### Create Initial Coefficients\n",
    "\n",
    "The target polynomial will be defined by a vector called `target_coeffs`. The coefficients for the initial estimated coefficients will be `estimate_coeffs`. `target_coeffs` will not change since they represent the truth in the estimate polynomial. The `estiamte_coeffs` will be iteratively updated as the estimate moves closer to the target."
   ]
  },
  {
   "cell_type": "code",
   "execution_count": 8,
   "id": "08e2a84b-6e55-45e6-b270-b2c40ff2fd41",
   "metadata": {
    "tags": []
   },
   "outputs": [],
   "source": [
    "target_coeffs = [-2.0, 0.0, 2.5, 1.2]\n",
    "estimate_coeffs = [-2.5, 0.0, 2.0, -1.7]"
   ]
  },
  {
   "cell_type": "markdown",
   "id": "0f3788ee-91f7-467b-81e6-e92cc0494b5c",
   "metadata": {},
   "source": [
    "## Fitting the Polynomial\n",
    "\n",
    "### Plot the Target and Initial Estimate Polynomials\n",
    "\n",
    "For the remainder of this notebook, the target polynomial will be in blue and the estimate polynomial will be in orange. I will include the initial RSS in the title."
   ]
  },
  {
   "cell_type": "code",
   "execution_count": 9,
   "id": "7432b6c1-559e-4909-be09-475f537aed87",
   "metadata": {
    "tags": []
   },
   "outputs": [
    {
     "data": {
      "text/plain": [
       "<matplotlib.legend.Legend at 0x10e058640>"
      ]
     },
     "execution_count": 9,
     "metadata": {},
     "output_type": "execute_result"
    },
    {
     "data": {
      "image/png": "[encoded data removed]",
      "text/plain": [
       "<Figure size 640x480 with 1 Axes>"
      ]
     },
     "metadata": {},
     "output_type": "display_data"
    }
   ],
   "source": [
    "target_0 = polynomial(common_x_axis, target_coeffs)\n",
    "estimate_0 = polynomial(common_x_axis, estimate_coeffs)\n",
    "fig, ax = plt.subplots(nrows=1, ncols=1)\n",
    "ax.scatter(common_x_axis, target_0, color='blue', alpha=0.6, label='target')\n",
    "ax.scatter(common_x_axis, estimate_0, color='orange', alpha=0.6, label='estimate')\n",
    "ax.legend()"
   ]
  },
  {
   "cell_type": "markdown",
   "id": "7a37a214-34fe-48c3-9994-2ecf46a906ec",
   "metadata": {},
   "source": [
    "As a reminder, here are the target coefficients and the initial estimate coefficients:"
   ]
  },
  {
   "cell_type": "code",
   "execution_count": 10,
   "id": "97805288-db84-4687-b17e-94bfce5e9a99",
   "metadata": {
    "tags": []
   },
   "outputs": [
    {
     "name": "stdout",
     "output_type": "stream",
     "text": [
      "Target coefficients [-2.0, 0.0, 2.5, 1.2]\n",
      "Initial estimate coefficients [-2.5, 0.0, 2.0, -1.7]\n",
      "Initial RSS 2015004.0007105004\n"
     ]
    }
   ],
   "source": [
    "print(f'Target coefficients {target_coeffs}')\n",
    "print(f'Initial estimate coefficients {estimate_coeffs}')\n",
    "print(f'Initial RSS {rss(common_x_axis, target_coeffs, estimate_coeffs)}')"
   ]
  },
  {
   "cell_type": "markdown",
   "id": "b7e2a263-e119-41db-8bdf-b497841f30f1",
   "metadata": {},
   "source": [
    "### Fit the Estimate Coefficients"
   ]
  },
  {
   "cell_type": "code",
   "execution_count": 11,
   "id": "7d93f568-b2ac-4128-99a8-9865cb8673e0",
   "metadata": {
    "tags": []
   },
   "outputs": [],
   "source": [
    "gradient_descent_history = gradient_descent(common_x_axis, target_0, target_coeffs, estimate_coeffs)"
   ]
  },
  {
   "cell_type": "markdown",
   "id": "69b6e91e-956a-4033-a0b5-13b7b7a33db0",
   "metadata": {},
   "source": [
    "### Plot the RSS History\n",
    "\n",
    "As gradient descent fits the estimate coefficients, the RSS should drop with each iteration."
   ]
  },
  {
   "cell_type": "code",
   "execution_count": 12,
   "id": "f66f70aa-3687-40ea-b148-1829fe100303",
   "metadata": {
    "tags": []
   },
   "outputs": [
    {
     "data": {
      "text/plain": [
       "Text(0.5, 0, 'iteration')"
      ]
     },
     "execution_count": 12,
     "metadata": {},
     "output_type": "execute_result"
    },
    {
     "data": {
      "image/png": "[encoded data removed]",
      "text/plain": [
       "<Figure size 640x480 with 1 Axes>"
      ]
     },
     "metadata": {},
     "output_type": "display_data"
    }
   ],
   "source": [
    "rss_history = [step['rss'] for step in gradient_descent_history]\n",
    "fig, ax = plt.subplots(nrows=1, ncols=1)\n",
    "ax.set_yscale('log')\n",
    "ax.plot(list(range(len(rss_history))), rss_history, color='green')\n",
    "ax.set_title(f'RSS vs Iteration')\n",
    "ax.set_ylabel('RSS')\n",
    "ax.set_xlabel('iteration')"
   ]
  },
  {
   "cell_type": "markdown",
   "id": "7de7b95d-a4f8-4740-a5bf-de943e4e2c37",
   "metadata": {},
   "source": [
    "### Plot the Final Estimate and Target Polynomials\n",
    "\n",
    "This is a graphical representation of how close the fit is after training."
   ]
  },
  {
   "cell_type": "code",
   "execution_count": 13,
   "id": "dc57628f-0d47-49b7-8006-a44659612dc1",
   "metadata": {
    "tags": []
   },
   "outputs": [
    {
     "data": {
      "text/plain": [
       "<matplotlib.legend.Legend at 0x10e23d7e0>"
      ]
     },
     "execution_count": 13,
     "metadata": {},
     "output_type": "execute_result"
    },
    {
     "data": {
      "image/png": "[encoded data removed]",
      "text/plain": [
       "<Figure size 640x480 with 1 Axes>"
      ]
     },
     "metadata": {},
     "output_type": "display_data"
    }
   ],
   "source": [
    "estimate_final = polynomial(common_x_axis, gradient_descent_history[-1]['y_hat_coeffs'])\n",
    "fig, ax = plt.subplots(nrows=1, ncols=1)\n",
    "ax.scatter(common_x_axis, target_0, color='blue', alpha=0.6, label='target')\n",
    "ax.scatter(common_x_axis, estimate_final, color='orange', alpha=0.6, label='estimate')\n",
    "ax.legend()"
   ]
  },
  {
   "cell_type": "markdown",
   "id": "5fa860e3-8904-468d-8a87-1ef921166530",
   "metadata": {},
   "source": [
    "### Report the Final Numbers\n",
    "\n",
    "These are the numeric results of the training."
   ]
  },
  {
   "cell_type": "code",
   "execution_count": 14,
   "id": "4ac64cf1-b066-442f-95c0-510384d527a8",
   "metadata": {
    "tags": []
   },
   "outputs": [
    {
     "name": "stdout",
     "output_type": "stream",
     "text": [
      "Training iterations 88\n",
      "Target coefficients [-2.0, 0.0, 2.5, 1.2]\n",
      "Final estimate coefficients [-2.4649992311439837, 0.1551299749689758, 2.4784435198598582, 1.1914759552905416]\n",
      "Initial RSS 2015004.0007105004\n",
      "Final RSS 48.45559484188128\n"
     ]
    }
   ],
   "source": [
    "final_estimate_coeffs = gradient_descent_history[-1]['y_hat_coeffs']\n",
    "initial_rss = gradient_descent_history[0]['rss']\n",
    "print(f'Training iterations {len(gradient_descent_history)}')\n",
    "print(f'Target coefficients {target_coeffs}')\n",
    "print(f'Final estimate coefficients {final_estimate_coeffs}')\n",
    "print(f'Initial RSS {initial_rss}')\n",
    "print(f'Final RSS {rss(common_x_axis, target_coeffs, final_estimate_coeffs)}')"
   ]
  },
  {
   "cell_type": "markdown",
   "id": "045535cd-f3b7-44d7-a000-3017470ce9b9",
   "metadata": {},
   "source": [
    "## Acknowledgements\n",
    "\n",
    "This algorithm is based on the description from Section 3 of the [*Computational Physics*](https://www.sciencecourseonline.com) course from Börge Göbel and from Eqn 3.16 in *An Intorduction to Statistical Learning with Applications in R* by Gareth James et al."
   ]
  },
  {
   "cell_type": "code",
   "execution_count": null,
   "id": "886fd6d9-2350-461e-9598-9fa7f8e93b21",
   "metadata": {},
   "outputs": [],
   "source": []
  }
 ],
 "metadata": {
  "kernelspec": {
   "display_name": "Python 3 (ipykernel)",
   "language": "python",
   "name": "python3"
  },
  "language_info": {
   "codemirror_mode": {
    "name": "ipython",
    "version": 3
   },
   "file_extension": ".py",
   "mimetype": "text/x-python",
   "name": "python",
   "nbconvert_exporter": "python",
   "pygments_lexer": "ipython3",
   "version": "3.10.11"
  }
 },
 "nbformat": 4,
 "nbformat_minor": 5
}
